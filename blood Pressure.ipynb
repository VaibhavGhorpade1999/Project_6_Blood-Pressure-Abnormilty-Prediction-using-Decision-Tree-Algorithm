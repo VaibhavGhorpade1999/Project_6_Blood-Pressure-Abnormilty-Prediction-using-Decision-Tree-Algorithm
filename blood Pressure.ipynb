{
 "cells": [
  {
   "cell_type": "code",
   "execution_count": 44,
   "id": "9fbdacc7-da63-43a9-8bcc-8bf680beb499",
   "metadata": {},
   "outputs": [],
   "source": [
    "import pandas as pd"
   ]
  },
  {
   "cell_type": "code",
   "execution_count": 45,
   "id": "2e033304-d8f8-43aa-995e-119a2cbea139",
   "metadata": {},
   "outputs": [],
   "source": [
    "bp=pd.read_csv(r\"C:\\Users\\Vaibhav A. Ghorpade\\Desktop\\dataset\\Blood Pressure .csv\")"
   ]
  },
  {
   "cell_type": "code",
   "execution_count": 46,
   "id": "df388c88-4a92-4c78-a8d3-30c4a58c1046",
   "metadata": {},
   "outputs": [
    {
     "data": {
      "text/html": [
       "<div>\n",
       "<style scoped>\n",
       "    .dataframe tbody tr th:only-of-type {\n",
       "        vertical-align: middle;\n",
       "    }\n",
       "\n",
       "    .dataframe tbody tr th {\n",
       "        vertical-align: top;\n",
       "    }\n",
       "\n",
       "    .dataframe thead th {\n",
       "        text-align: right;\n",
       "    }\n",
       "</style>\n",
       "<table border=\"1\" class=\"dataframe\">\n",
       "  <thead>\n",
       "    <tr style=\"text-align: right;\">\n",
       "      <th></th>\n",
       "      <th>Patient_Number</th>\n",
       "      <th>Blood_Pressure_Abnormality</th>\n",
       "      <th>Level_of_Hemoglobin</th>\n",
       "      <th>Genetic_Pedigree_Coefficient</th>\n",
       "      <th>Age</th>\n",
       "      <th>BMI</th>\n",
       "      <th>Sex</th>\n",
       "      <th>Pregnancy</th>\n",
       "      <th>Smoking</th>\n",
       "      <th>Physical_activity</th>\n",
       "      <th>salt_content_in_the_diet</th>\n",
       "      <th>alcohol_consumption_per_day</th>\n",
       "      <th>Level_of_Stress</th>\n",
       "      <th>Chronic_kidney_disease</th>\n",
       "      <th>Adrenal_and_thyroid_disorders</th>\n",
       "    </tr>\n",
       "  </thead>\n",
       "  <tbody>\n",
       "    <tr>\n",
       "      <th>0</th>\n",
       "      <td>1</td>\n",
       "      <td>1</td>\n",
       "      <td>11.28</td>\n",
       "      <td>0.90</td>\n",
       "      <td>34</td>\n",
       "      <td>23</td>\n",
       "      <td>1</td>\n",
       "      <td>1.0</td>\n",
       "      <td>0</td>\n",
       "      <td>45961</td>\n",
       "      <td>48071</td>\n",
       "      <td>NaN</td>\n",
       "      <td>2</td>\n",
       "      <td>1</td>\n",
       "      <td>1</td>\n",
       "    </tr>\n",
       "    <tr>\n",
       "      <th>1</th>\n",
       "      <td>2</td>\n",
       "      <td>0</td>\n",
       "      <td>9.75</td>\n",
       "      <td>0.23</td>\n",
       "      <td>54</td>\n",
       "      <td>33</td>\n",
       "      <td>1</td>\n",
       "      <td>NaN</td>\n",
       "      <td>0</td>\n",
       "      <td>26106</td>\n",
       "      <td>25333</td>\n",
       "      <td>205.0</td>\n",
       "      <td>3</td>\n",
       "      <td>0</td>\n",
       "      <td>0</td>\n",
       "    </tr>\n",
       "    <tr>\n",
       "      <th>2</th>\n",
       "      <td>3</td>\n",
       "      <td>1</td>\n",
       "      <td>10.79</td>\n",
       "      <td>0.91</td>\n",
       "      <td>70</td>\n",
       "      <td>49</td>\n",
       "      <td>0</td>\n",
       "      <td>NaN</td>\n",
       "      <td>0</td>\n",
       "      <td>9995</td>\n",
       "      <td>29465</td>\n",
       "      <td>67.0</td>\n",
       "      <td>2</td>\n",
       "      <td>1</td>\n",
       "      <td>0</td>\n",
       "    </tr>\n",
       "    <tr>\n",
       "      <th>3</th>\n",
       "      <td>4</td>\n",
       "      <td>0</td>\n",
       "      <td>11.00</td>\n",
       "      <td>0.43</td>\n",
       "      <td>71</td>\n",
       "      <td>50</td>\n",
       "      <td>0</td>\n",
       "      <td>NaN</td>\n",
       "      <td>0</td>\n",
       "      <td>10635</td>\n",
       "      <td>7439</td>\n",
       "      <td>242.0</td>\n",
       "      <td>1</td>\n",
       "      <td>1</td>\n",
       "      <td>0</td>\n",
       "    </tr>\n",
       "    <tr>\n",
       "      <th>4</th>\n",
       "      <td>5</td>\n",
       "      <td>1</td>\n",
       "      <td>14.17</td>\n",
       "      <td>0.83</td>\n",
       "      <td>52</td>\n",
       "      <td>19</td>\n",
       "      <td>0</td>\n",
       "      <td>NaN</td>\n",
       "      <td>0</td>\n",
       "      <td>15619</td>\n",
       "      <td>49644</td>\n",
       "      <td>397.0</td>\n",
       "      <td>2</td>\n",
       "      <td>0</td>\n",
       "      <td>0</td>\n",
       "    </tr>\n",
       "  </tbody>\n",
       "</table>\n",
       "</div>"
      ],
      "text/plain": [
       "   Patient_Number  Blood_Pressure_Abnormality  Level_of_Hemoglobin  \\\n",
       "0               1                           1                11.28   \n",
       "1               2                           0                 9.75   \n",
       "2               3                           1                10.79   \n",
       "3               4                           0                11.00   \n",
       "4               5                           1                14.17   \n",
       "\n",
       "   Genetic_Pedigree_Coefficient  Age  BMI  Sex  Pregnancy  Smoking  \\\n",
       "0                          0.90   34   23    1        1.0        0   \n",
       "1                          0.23   54   33    1        NaN        0   \n",
       "2                          0.91   70   49    0        NaN        0   \n",
       "3                          0.43   71   50    0        NaN        0   \n",
       "4                          0.83   52   19    0        NaN        0   \n",
       "\n",
       "   Physical_activity  salt_content_in_the_diet  alcohol_consumption_per_day  \\\n",
       "0              45961                     48071                          NaN   \n",
       "1              26106                     25333                        205.0   \n",
       "2               9995                     29465                         67.0   \n",
       "3              10635                      7439                        242.0   \n",
       "4              15619                     49644                        397.0   \n",
       "\n",
       "   Level_of_Stress  Chronic_kidney_disease  Adrenal_and_thyroid_disorders  \n",
       "0                2                       1                              1  \n",
       "1                3                       0                              0  \n",
       "2                2                       1                              0  \n",
       "3                1                       1                              0  \n",
       "4                2                       0                              0  "
      ]
     },
     "execution_count": 46,
     "metadata": {},
     "output_type": "execute_result"
    }
   ],
   "source": [
    "bp.head()"
   ]
  },
  {
   "cell_type": "code",
   "execution_count": 47,
   "id": "690fbe86-e602-4545-860d-8bc4a66854df",
   "metadata": {},
   "outputs": [],
   "source": [
    "bp=bp.drop([\"Patient_Number\"],axis=1)"
   ]
  },
  {
   "cell_type": "code",
   "execution_count": 48,
   "id": "ea2cef8a-1745-4113-8101-4862d7d2e1d7",
   "metadata": {},
   "outputs": [
    {
     "data": {
      "text/html": [
       "<div>\n",
       "<style scoped>\n",
       "    .dataframe tbody tr th:only-of-type {\n",
       "        vertical-align: middle;\n",
       "    }\n",
       "\n",
       "    .dataframe tbody tr th {\n",
       "        vertical-align: top;\n",
       "    }\n",
       "\n",
       "    .dataframe thead th {\n",
       "        text-align: right;\n",
       "    }\n",
       "</style>\n",
       "<table border=\"1\" class=\"dataframe\">\n",
       "  <thead>\n",
       "    <tr style=\"text-align: right;\">\n",
       "      <th></th>\n",
       "      <th>Blood_Pressure_Abnormality</th>\n",
       "      <th>Level_of_Hemoglobin</th>\n",
       "      <th>Genetic_Pedigree_Coefficient</th>\n",
       "      <th>Age</th>\n",
       "      <th>BMI</th>\n",
       "      <th>Sex</th>\n",
       "      <th>Pregnancy</th>\n",
       "      <th>Smoking</th>\n",
       "      <th>Physical_activity</th>\n",
       "      <th>salt_content_in_the_diet</th>\n",
       "      <th>alcohol_consumption_per_day</th>\n",
       "      <th>Level_of_Stress</th>\n",
       "      <th>Chronic_kidney_disease</th>\n",
       "      <th>Adrenal_and_thyroid_disorders</th>\n",
       "    </tr>\n",
       "  </thead>\n",
       "  <tbody>\n",
       "    <tr>\n",
       "      <th>0</th>\n",
       "      <td>1</td>\n",
       "      <td>11.28</td>\n",
       "      <td>0.90</td>\n",
       "      <td>34</td>\n",
       "      <td>23</td>\n",
       "      <td>1</td>\n",
       "      <td>1.0</td>\n",
       "      <td>0</td>\n",
       "      <td>45961</td>\n",
       "      <td>48071</td>\n",
       "      <td>NaN</td>\n",
       "      <td>2</td>\n",
       "      <td>1</td>\n",
       "      <td>1</td>\n",
       "    </tr>\n",
       "    <tr>\n",
       "      <th>1</th>\n",
       "      <td>0</td>\n",
       "      <td>9.75</td>\n",
       "      <td>0.23</td>\n",
       "      <td>54</td>\n",
       "      <td>33</td>\n",
       "      <td>1</td>\n",
       "      <td>NaN</td>\n",
       "      <td>0</td>\n",
       "      <td>26106</td>\n",
       "      <td>25333</td>\n",
       "      <td>205.0</td>\n",
       "      <td>3</td>\n",
       "      <td>0</td>\n",
       "      <td>0</td>\n",
       "    </tr>\n",
       "    <tr>\n",
       "      <th>2</th>\n",
       "      <td>1</td>\n",
       "      <td>10.79</td>\n",
       "      <td>0.91</td>\n",
       "      <td>70</td>\n",
       "      <td>49</td>\n",
       "      <td>0</td>\n",
       "      <td>NaN</td>\n",
       "      <td>0</td>\n",
       "      <td>9995</td>\n",
       "      <td>29465</td>\n",
       "      <td>67.0</td>\n",
       "      <td>2</td>\n",
       "      <td>1</td>\n",
       "      <td>0</td>\n",
       "    </tr>\n",
       "    <tr>\n",
       "      <th>3</th>\n",
       "      <td>0</td>\n",
       "      <td>11.00</td>\n",
       "      <td>0.43</td>\n",
       "      <td>71</td>\n",
       "      <td>50</td>\n",
       "      <td>0</td>\n",
       "      <td>NaN</td>\n",
       "      <td>0</td>\n",
       "      <td>10635</td>\n",
       "      <td>7439</td>\n",
       "      <td>242.0</td>\n",
       "      <td>1</td>\n",
       "      <td>1</td>\n",
       "      <td>0</td>\n",
       "    </tr>\n",
       "    <tr>\n",
       "      <th>4</th>\n",
       "      <td>1</td>\n",
       "      <td>14.17</td>\n",
       "      <td>0.83</td>\n",
       "      <td>52</td>\n",
       "      <td>19</td>\n",
       "      <td>0</td>\n",
       "      <td>NaN</td>\n",
       "      <td>0</td>\n",
       "      <td>15619</td>\n",
       "      <td>49644</td>\n",
       "      <td>397.0</td>\n",
       "      <td>2</td>\n",
       "      <td>0</td>\n",
       "      <td>0</td>\n",
       "    </tr>\n",
       "  </tbody>\n",
       "</table>\n",
       "</div>"
      ],
      "text/plain": [
       "   Blood_Pressure_Abnormality  Level_of_Hemoglobin  \\\n",
       "0                           1                11.28   \n",
       "1                           0                 9.75   \n",
       "2                           1                10.79   \n",
       "3                           0                11.00   \n",
       "4                           1                14.17   \n",
       "\n",
       "   Genetic_Pedigree_Coefficient  Age  BMI  Sex  Pregnancy  Smoking  \\\n",
       "0                          0.90   34   23    1        1.0        0   \n",
       "1                          0.23   54   33    1        NaN        0   \n",
       "2                          0.91   70   49    0        NaN        0   \n",
       "3                          0.43   71   50    0        NaN        0   \n",
       "4                          0.83   52   19    0        NaN        0   \n",
       "\n",
       "   Physical_activity  salt_content_in_the_diet  alcohol_consumption_per_day  \\\n",
       "0              45961                     48071                          NaN   \n",
       "1              26106                     25333                        205.0   \n",
       "2               9995                     29465                         67.0   \n",
       "3              10635                      7439                        242.0   \n",
       "4              15619                     49644                        397.0   \n",
       "\n",
       "   Level_of_Stress  Chronic_kidney_disease  Adrenal_and_thyroid_disorders  \n",
       "0                2                       1                              1  \n",
       "1                3                       0                              0  \n",
       "2                2                       1                              0  \n",
       "3                1                       1                              0  \n",
       "4                2                       0                              0  "
      ]
     },
     "execution_count": 48,
     "metadata": {},
     "output_type": "execute_result"
    }
   ],
   "source": [
    "bp.head()"
   ]
  },
  {
   "cell_type": "code",
   "execution_count": 49,
   "id": "d03b78d1-cf44-497d-a464-cae4da4f781e",
   "metadata": {},
   "outputs": [
    {
     "data": {
      "text/plain": [
       "(2000, 14)"
      ]
     },
     "execution_count": 49,
     "metadata": {},
     "output_type": "execute_result"
    }
   ],
   "source": [
    "bp.shape"
   ]
  },
  {
   "cell_type": "code",
   "execution_count": 50,
   "id": "988333ee-3b91-4ed7-abe9-864bbe39f81a",
   "metadata": {},
   "outputs": [
    {
     "data": {
      "text/plain": [
       "Blood_Pressure_Abnormality          0\n",
       "Level_of_Hemoglobin                 0\n",
       "Genetic_Pedigree_Coefficient       92\n",
       "Age                                 0\n",
       "BMI                                 0\n",
       "Sex                                 0\n",
       "Pregnancy                        1558\n",
       "Smoking                             0\n",
       "Physical_activity                   0\n",
       "salt_content_in_the_diet            0\n",
       "alcohol_consumption_per_day       242\n",
       "Level_of_Stress                     0\n",
       "Chronic_kidney_disease              0\n",
       "Adrenal_and_thyroid_disorders       0\n",
       "dtype: int64"
      ]
     },
     "execution_count": 50,
     "metadata": {},
     "output_type": "execute_result"
    }
   ],
   "source": [
    "bp.isnull().sum()"
   ]
  },
  {
   "cell_type": "code",
   "execution_count": 51,
   "id": "f5021734-9010-475b-be3c-9ad5ca15f155",
   "metadata": {},
   "outputs": [],
   "source": [
    "#Data Cleaning   \n",
    "bp.Pregnancy=bp.Pregnancy.fillna(0)           \n",
    "bp.Genetic_Pedigree_Coefficient=bp.Genetic_Pedigree_Coefficient.fillna(bp.Genetic_Pedigree_Coefficient.mean())     \n",
    "bp.alcohol_consumption_per_day=bp.alcohol_consumption_per_day.fillna(0)       "
   ]
  },
  {
   "cell_type": "code",
   "execution_count": 52,
   "id": "e3751432-611f-4e9e-8b50-e0933dbcf430",
   "metadata": {},
   "outputs": [
    {
     "name": "stdout",
     "output_type": "stream",
     "text": [
      "<class 'pandas.core.frame.DataFrame'>\n",
      "RangeIndex: 2000 entries, 0 to 1999\n",
      "Data columns (total 14 columns):\n",
      " #   Column                         Non-Null Count  Dtype  \n",
      "---  ------                         --------------  -----  \n",
      " 0   Blood_Pressure_Abnormality     2000 non-null   int64  \n",
      " 1   Level_of_Hemoglobin            2000 non-null   float64\n",
      " 2   Genetic_Pedigree_Coefficient   2000 non-null   float64\n",
      " 3   Age                            2000 non-null   int64  \n",
      " 4   BMI                            2000 non-null   int64  \n",
      " 5   Sex                            2000 non-null   int64  \n",
      " 6   Pregnancy                      2000 non-null   float64\n",
      " 7   Smoking                        2000 non-null   int64  \n",
      " 8   Physical_activity              2000 non-null   int64  \n",
      " 9   salt_content_in_the_diet       2000 non-null   int64  \n",
      " 10  alcohol_consumption_per_day    2000 non-null   float64\n",
      " 11  Level_of_Stress                2000 non-null   int64  \n",
      " 12  Chronic_kidney_disease         2000 non-null   int64  \n",
      " 13  Adrenal_and_thyroid_disorders  2000 non-null   int64  \n",
      "dtypes: float64(4), int64(10)\n",
      "memory usage: 218.9 KB\n"
     ]
    }
   ],
   "source": [
    "bp.info()"
   ]
  },
  {
   "cell_type": "code",
   "execution_count": 53,
   "id": "26ffecd2-e823-44da-815e-d13a5c72ebf2",
   "metadata": {},
   "outputs": [],
   "source": [
    "from sklearn.preprocessing import LabelEncoder\n",
    "le=LabelEncoder()"
   ]
  },
  {
   "cell_type": "code",
   "execution_count": 54,
   "id": "443d7aec-fd8b-40e0-9e5e-cbc5f5a8cfd8",
   "metadata": {},
   "outputs": [],
   "source": [
    "from sklearn.model_selection import train_test_split"
   ]
  },
  {
   "cell_type": "code",
   "execution_count": 55,
   "id": "dd46cda0-6250-47fd-bed2-8178ddee4695",
   "metadata": {},
   "outputs": [],
   "source": [
    "bp_train,bp_test=train_test_split(bp,test_size=0.2)"
   ]
  },
  {
   "cell_type": "code",
   "execution_count": 56,
   "id": "c772bc41-5fef-470c-921a-6fb58de70872",
   "metadata": {},
   "outputs": [],
   "source": [
    "bp_train_x=bp_train.iloc[: ,1:-1]\n",
    "bp_test_x=bp_test.iloc[: ,1:-1]"
   ]
  },
  {
   "cell_type": "code",
   "execution_count": 57,
   "id": "29e0c2b0-fe84-4f10-a0f2-05656078f306",
   "metadata": {},
   "outputs": [],
   "source": [
    "bp_train_y=bp_train.iloc[: ,0]\n",
    "bp_test_y=bp_test.iloc[: ,0]"
   ]
  },
  {
   "cell_type": "code",
   "execution_count": 58,
   "id": "fd8b399c-bce6-4258-a2f1-8bf2ebbfbae3",
   "metadata": {},
   "outputs": [],
   "source": [
    "from sklearn.tree import DecisionTreeClassifier"
   ]
  },
  {
   "cell_type": "code",
   "execution_count": 59,
   "id": "af0ae556-d01e-4d96-a668-c8e94c4fccd4",
   "metadata": {},
   "outputs": [],
   "source": [
    "dt=DecisionTreeClassifier()"
   ]
  },
  {
   "cell_type": "code",
   "execution_count": 60,
   "id": "16fd92f7-5875-4cc3-9866-29eef76264cf",
   "metadata": {},
   "outputs": [
    {
     "data": {
      "text/plain": [
       "DecisionTreeClassifier()"
      ]
     },
     "execution_count": 60,
     "metadata": {},
     "output_type": "execute_result"
    }
   ],
   "source": [
    "dt.fit(bp_train_x,bp_train_y)"
   ]
  },
  {
   "cell_type": "code",
   "execution_count": 61,
   "id": "09beee0a-e191-4ed4-af7d-8378f22c9a3f",
   "metadata": {},
   "outputs": [],
   "source": [
    "pred=dt.predict(bp_test_x)"
   ]
  },
  {
   "cell_type": "code",
   "execution_count": 62,
   "id": "9c457b93-a5f2-4ad9-bd62-d55f8bae805b",
   "metadata": {},
   "outputs": [
    {
     "data": {
      "text/plain": [
       "array([1, 0, 1, 0, 1, 0, 1, 1, 1, 1, 1, 1, 1, 1, 0, 1, 1, 1, 0, 0, 0, 0,\n",
       "       0, 0, 0, 1, 0, 1, 1, 0, 0, 0, 1, 1, 0, 1, 1, 1, 0, 0, 1, 1, 0, 0,\n",
       "       1, 0, 0, 0, 0, 1, 0, 0, 0, 0, 1, 1, 0, 0, 0, 1, 1, 0, 0, 1, 1, 0,\n",
       "       1, 0, 1, 1, 0, 0, 1, 1, 0, 1, 1, 0, 1, 0, 1, 0, 1, 0, 1, 1, 0, 1,\n",
       "       1, 1, 0, 0, 1, 0, 0, 0, 0, 0, 1, 1, 1, 0, 0, 0, 0, 0, 1, 1, 1, 0,\n",
       "       0, 1, 1, 1, 0, 0, 1, 0, 1, 1, 0, 0, 1, 0, 1, 0, 1, 0, 0, 0, 1, 0,\n",
       "       0, 1, 0, 1, 0, 0, 0, 1, 1, 1, 0, 1, 1, 0, 1, 0, 0, 1, 0, 1, 0, 0,\n",
       "       1, 1, 0, 0, 1, 1, 0, 1, 1, 1, 0, 0, 1, 0, 0, 1, 0, 1, 1, 1, 0, 0,\n",
       "       1, 1, 0, 0, 1, 1, 1, 0, 0, 0, 0, 0, 1, 1, 0, 0, 1, 1, 0, 1, 1, 0,\n",
       "       0, 1, 0, 1, 1, 0, 1, 0, 1, 0, 1, 0, 1, 1, 1, 1, 0, 0, 1, 1, 1, 1,\n",
       "       1, 0, 0, 0, 0, 1, 0, 1, 1, 1, 0, 0, 1, 0, 1, 0, 0, 1, 0, 1, 1, 0,\n",
       "       1, 1, 1, 1, 0, 0, 0, 1, 1, 1, 1, 0, 0, 1, 0, 1, 0, 0, 1, 1, 0, 0,\n",
       "       1, 0, 0, 0, 0, 0, 0, 0, 0, 0, 0, 0, 1, 0, 0, 0, 1, 0, 0, 0, 1, 0,\n",
       "       1, 0, 1, 0, 1, 0, 0, 0, 1, 1, 0, 0, 0, 1, 0, 1, 1, 1, 1, 1, 0, 1,\n",
       "       0, 1, 1, 1, 0, 0, 0, 0, 1, 1, 0, 1, 0, 1, 1, 0, 0, 0, 1, 1, 1, 1,\n",
       "       0, 0, 1, 1, 0, 0, 1, 0, 0, 0, 1, 0, 1, 1, 0, 1, 0, 0, 0, 1, 0, 1,\n",
       "       0, 0, 0, 0, 1, 1, 0, 0, 1, 0, 1, 0, 1, 0, 1, 0, 1, 0, 0, 1, 0, 1,\n",
       "       1, 0, 1, 0, 1, 0, 0, 1, 0, 0, 1, 0, 1, 1, 1, 0, 1, 1, 0, 0, 0, 1,\n",
       "       1, 1, 1, 0], dtype=int64)"
      ]
     },
     "execution_count": 62,
     "metadata": {},
     "output_type": "execute_result"
    }
   ],
   "source": [
    "pred"
   ]
  },
  {
   "cell_type": "code",
   "execution_count": 63,
   "id": "efbe0bb4-25df-432b-93ae-0368e9d11ddf",
   "metadata": {},
   "outputs": [
    {
     "data": {
      "text/plain": [
       "400"
      ]
     },
     "execution_count": 63,
     "metadata": {},
     "output_type": "execute_result"
    }
   ],
   "source": [
    "len(pred)"
   ]
  },
  {
   "cell_type": "code",
   "execution_count": 64,
   "id": "9f8123f1-d71b-497c-9c32-a80dd415c746",
   "metadata": {},
   "outputs": [
    {
     "data": {
      "text/html": [
       "<div>\n",
       "<style scoped>\n",
       "    .dataframe tbody tr th:only-of-type {\n",
       "        vertical-align: middle;\n",
       "    }\n",
       "\n",
       "    .dataframe tbody tr th {\n",
       "        vertical-align: top;\n",
       "    }\n",
       "\n",
       "    .dataframe thead th {\n",
       "        text-align: right;\n",
       "    }\n",
       "</style>\n",
       "<table border=\"1\" class=\"dataframe\">\n",
       "  <thead>\n",
       "    <tr style=\"text-align: right;\">\n",
       "      <th>col_0</th>\n",
       "      <th>0</th>\n",
       "      <th>1</th>\n",
       "    </tr>\n",
       "    <tr>\n",
       "      <th>Blood_Pressure_Abnormality</th>\n",
       "      <th></th>\n",
       "      <th></th>\n",
       "    </tr>\n",
       "  </thead>\n",
       "  <tbody>\n",
       "    <tr>\n",
       "      <th>0</th>\n",
       "      <td>168</td>\n",
       "      <td>34</td>\n",
       "    </tr>\n",
       "    <tr>\n",
       "      <th>1</th>\n",
       "      <td>39</td>\n",
       "      <td>159</td>\n",
       "    </tr>\n",
       "  </tbody>\n",
       "</table>\n",
       "</div>"
      ],
      "text/plain": [
       "col_0                         0    1\n",
       "Blood_Pressure_Abnormality          \n",
       "0                           168   34\n",
       "1                            39  159"
      ]
     },
     "execution_count": 64,
     "metadata": {},
     "output_type": "execute_result"
    }
   ],
   "source": [
    "tab_bp=pd.crosstab(bp_test_y,pred)\n",
    "tab_bp"
   ]
  },
  {
   "cell_type": "code",
   "execution_count": 65,
   "id": "26215674-3d07-46ce-b68a-7ce4a3bc6190",
   "metadata": {},
   "outputs": [
    {
     "data": {
      "text/plain": [
       "array([[168,  34],\n",
       "       [ 39, 159]], dtype=int64)"
      ]
     },
     "execution_count": 65,
     "metadata": {},
     "output_type": "execute_result"
    }
   ],
   "source": [
    "from sklearn.metrics import confusion_matrix\n",
    "tab_bp=confusion_matrix(bp_test_y,pred)\n",
    "tab_bp"
   ]
  },
  {
   "cell_type": "code",
   "execution_count": 66,
   "id": "d4b99154-a573-4f4d-9c5b-7dbd113f6c18",
   "metadata": {},
   "outputs": [
    {
     "data": {
      "text/plain": [
       "81.75"
      ]
     },
     "execution_count": 66,
     "metadata": {},
     "output_type": "execute_result"
    }
   ],
   "source": [
    "accu=tab_bp.diagonal().sum()*100/tab_bp.sum()\n",
    "accu"
   ]
  },
  {
   "cell_type": "code",
   "execution_count": 67,
   "id": "9b8b9114-0ccc-4c51-9b4b-b965d99abb0d",
   "metadata": {},
   "outputs": [
    {
     "data": {
      "text/plain": [
       "81.75"
      ]
     },
     "execution_count": 67,
     "metadata": {},
     "output_type": "execute_result"
    }
   ],
   "source": [
    "#another method to get accuracy\n",
    "from sklearn.metrics import accuracy_score\n",
    "accuracy_score(bp_test_y,pred)*100"
   ]
  },
  {
   "cell_type": "code",
   "execution_count": 68,
   "id": "1125b123-e011-4cf3-9a11-e8ecfa34322d",
   "metadata": {},
   "outputs": [
    {
     "data": {
      "text/plain": [
       "80.3030303030303"
      ]
     },
     "execution_count": 68,
     "metadata": {},
     "output_type": "execute_result"
    }
   ],
   "source": [
    "Tpr=(tab_bp[1][1]*100)/(tab_bp[1][1]+tab_bp[1][0])\n",
    "Tpr"
   ]
  },
  {
   "cell_type": "code",
   "execution_count": 69,
   "id": "aca36e54-19b8-4d9b-abd5-fdeca4eb607d",
   "metadata": {},
   "outputs": [
    {
     "data": {
      "text/plain": [
       "80.3030303030303"
      ]
     },
     "execution_count": 69,
     "metadata": {},
     "output_type": "execute_result"
    }
   ],
   "source": [
    "#another method to get Tpr Or recall\n",
    "from sklearn.metrics import recall_score\n",
    "recall_score(bp_test_y,pred)*100"
   ]
  },
  {
   "cell_type": "code",
   "execution_count": 70,
   "id": "4c87b4d7-7198-4a6d-9553-1a5269b7331a",
   "metadata": {},
   "outputs": [
    {
     "data": {
      "text/plain": [
       "16.831683168316832"
      ]
     },
     "execution_count": 70,
     "metadata": {},
     "output_type": "execute_result"
    }
   ],
   "source": [
    "Fpr=(tab_bp[0][1]*100)/(tab_bp[0][1]+tab_bp[0][0])\n",
    "Fpr"
   ]
  },
  {
   "cell_type": "code",
   "execution_count": 71,
   "id": "5693b857-8b9b-4673-814c-824a5b8410a1",
   "metadata": {},
   "outputs": [
    {
     "data": {
      "text/plain": [
       "82.38341968911918"
      ]
     },
     "execution_count": 71,
     "metadata": {},
     "output_type": "execute_result"
    }
   ],
   "source": [
    "#Two ways of checking precision\n",
    "from sklearn.metrics import precision_score\n",
    "precision_score(bp_test_y,pred)*100"
   ]
  },
  {
   "cell_type": "code",
   "execution_count": 72,
   "id": "00ef4f08-fe2e-4468-94a9-258e9783aa76",
   "metadata": {},
   "outputs": [
    {
     "data": {
      "text/plain": [
       "81.32992327365729"
      ]
     },
     "execution_count": 72,
     "metadata": {},
     "output_type": "execute_result"
    }
   ],
   "source": [
    "#F1 ratio\n",
    "from sklearn.metrics import f1_score\n",
    "f1_score(bp_test_y,pred)*100"
   ]
  },
  {
   "cell_type": "code",
   "execution_count": 73,
   "id": "09cc9adb-ff50-4fe9-a105-3d8d9dfcecfb",
   "metadata": {},
   "outputs": [],
   "source": [
    "from sklearn.metrics import roc_auc_score\n",
    "from sklearn.metrics import roc_curve"
   ]
  },
  {
   "cell_type": "code",
   "execution_count": 74,
   "id": "9b14ba75-2ff8-498b-bdeb-7e8582fc0f0e",
   "metadata": {},
   "outputs": [],
   "source": [
    "pred=log_bp.predict(bp_test_x)\n",
    "#pred"
   ]
  },
  {
   "cell_type": "code",
   "execution_count": 75,
   "id": "ff78f94a-8910-4697-956b-cf76b650a52c",
   "metadata": {},
   "outputs": [],
   "source": [
    "pred_prob=log_bp.predict_proba(bp_test_x)"
   ]
  },
  {
   "cell_type": "code",
   "execution_count": 76,
   "id": "07a97019-783b-4922-8476-5590b85d26f2",
   "metadata": {},
   "outputs": [
    {
     "data": {
      "text/plain": [
       "array([[0.61233253, 0.38766747],\n",
       "       [0.6314563 , 0.3685437 ],\n",
       "       [0.49910397, 0.50089603],\n",
       "       [0.54623303, 0.45376697],\n",
       "       [0.41356852, 0.58643148],\n",
       "       [0.53604637, 0.46395363],\n",
       "       [0.48434639, 0.51565361],\n",
       "       [0.50254189, 0.49745811],\n",
       "       [0.44326384, 0.55673616],\n",
       "       [0.52756241, 0.47243759],\n",
       "       [0.44567664, 0.55432336],\n",
       "       [0.50135234, 0.49864766],\n",
       "       [0.3800362 , 0.6199638 ],\n",
       "       [0.45069849, 0.54930151],\n",
       "       [0.42286799, 0.57713201],\n",
       "       [0.49948215, 0.50051785],\n",
       "       [0.41473277, 0.58526723],\n",
       "       [0.61733536, 0.38266464],\n",
       "       [0.60360145, 0.39639855],\n",
       "       [0.53077834, 0.46922166],\n",
       "       [0.5994033 , 0.4005967 ],\n",
       "       [0.60240914, 0.39759086],\n",
       "       [0.57651428, 0.42348572],\n",
       "       [0.52412645, 0.47587355],\n",
       "       [0.51297682, 0.48702318],\n",
       "       [0.57131647, 0.42868353],\n",
       "       [0.51846209, 0.48153791],\n",
       "       [0.51514899, 0.48485101],\n",
       "       [0.55649938, 0.44350062],\n",
       "       [0.46469037, 0.53530963],\n",
       "       [0.43088753, 0.56911247],\n",
       "       [0.47311243, 0.52688757],\n",
       "       [0.45925125, 0.54074875],\n",
       "       [0.45270762, 0.54729238],\n",
       "       [0.53751544, 0.46248456],\n",
       "       [0.5229373 , 0.4770627 ],\n",
       "       [0.47647612, 0.52352388],\n",
       "       [0.45495064, 0.54504936],\n",
       "       [0.47164623, 0.52835377],\n",
       "       [0.50083276, 0.49916724],\n",
       "       [0.44953919, 0.55046081],\n",
       "       [0.51271117, 0.48728883],\n",
       "       [0.58060032, 0.41939968],\n",
       "       [0.47362982, 0.52637018],\n",
       "       [0.48625725, 0.51374275],\n",
       "       [0.56682108, 0.43317892],\n",
       "       [0.543757  , 0.456243  ],\n",
       "       [0.55617565, 0.44382435],\n",
       "       [0.42066555, 0.57933445],\n",
       "       [0.48687695, 0.51312305],\n",
       "       [0.44162357, 0.55837643],\n",
       "       [0.53347155, 0.46652845],\n",
       "       [0.51888894, 0.48111106],\n",
       "       [0.39471034, 0.60528966],\n",
       "       [0.53720303, 0.46279697],\n",
       "       [0.57169526, 0.42830474],\n",
       "       [0.46778258, 0.53221742],\n",
       "       [0.4759161 , 0.5240839 ],\n",
       "       [0.40499402, 0.59500598],\n",
       "       [0.3944734 , 0.6055266 ],\n",
       "       [0.60675786, 0.39324214],\n",
       "       [0.51036615, 0.48963385],\n",
       "       [0.5451264 , 0.4548736 ],\n",
       "       [0.5256861 , 0.4743139 ],\n",
       "       [0.47528489, 0.52471511],\n",
       "       [0.56888315, 0.43111685],\n",
       "       [0.48342555, 0.51657445],\n",
       "       [0.50282196, 0.49717804],\n",
       "       [0.49779206, 0.50220794],\n",
       "       [0.62008308, 0.37991692],\n",
       "       [0.44638964, 0.55361036],\n",
       "       [0.5331839 , 0.4668161 ],\n",
       "       [0.44553738, 0.55446262],\n",
       "       [0.49718291, 0.50281709],\n",
       "       [0.53522842, 0.46477158],\n",
       "       [0.44542662, 0.55457338],\n",
       "       [0.47191768, 0.52808232],\n",
       "       [0.57537548, 0.42462452],\n",
       "       [0.49701221, 0.50298779],\n",
       "       [0.43506585, 0.56493415],\n",
       "       [0.43068975, 0.56931025],\n",
       "       [0.50714897, 0.49285103],\n",
       "       [0.51828497, 0.48171503],\n",
       "       [0.57818413, 0.42181587],\n",
       "       [0.49381281, 0.50618719],\n",
       "       [0.41202371, 0.58797629],\n",
       "       [0.48804558, 0.51195442],\n",
       "       [0.45232418, 0.54767582],\n",
       "       [0.61316477, 0.38683523],\n",
       "       [0.42068345, 0.57931655],\n",
       "       [0.51208531, 0.48791469],\n",
       "       [0.47564897, 0.52435103],\n",
       "       [0.62433734, 0.37566266],\n",
       "       [0.6123238 , 0.3876762 ],\n",
       "       [0.5657673 , 0.4342327 ],\n",
       "       [0.52666611, 0.47333389],\n",
       "       [0.39298165, 0.60701835],\n",
       "       [0.54323459, 0.45676541],\n",
       "       [0.58444594, 0.41555406],\n",
       "       [0.60034458, 0.39965542],\n",
       "       [0.50492547, 0.49507453],\n",
       "       [0.55917216, 0.44082784],\n",
       "       [0.4867563 , 0.5132437 ],\n",
       "       [0.50813732, 0.49186268],\n",
       "       [0.5237236 , 0.4762764 ],\n",
       "       [0.54628138, 0.45371862],\n",
       "       [0.59517886, 0.40482114],\n",
       "       [0.59404241, 0.40595759],\n",
       "       [0.45336601, 0.54663399],\n",
       "       [0.4668291 , 0.5331709 ],\n",
       "       [0.52310353, 0.47689647],\n",
       "       [0.4588029 , 0.5411971 ],\n",
       "       [0.50299138, 0.49700862],\n",
       "       [0.48092816, 0.51907184],\n",
       "       [0.42613036, 0.57386964],\n",
       "       [0.43060793, 0.56939207],\n",
       "       [0.51589426, 0.48410574],\n",
       "       [0.56151078, 0.43848922],\n",
       "       [0.48639087, 0.51360913],\n",
       "       [0.42177985, 0.57822015],\n",
       "       [0.56772958, 0.43227042],\n",
       "       [0.44126512, 0.55873488],\n",
       "       [0.5639127 , 0.4360873 ],\n",
       "       [0.49809969, 0.50190031],\n",
       "       [0.61148808, 0.38851192],\n",
       "       [0.49923157, 0.50076843],\n",
       "       [0.44158306, 0.55841694],\n",
       "       [0.58579212, 0.41420788],\n",
       "       [0.52851562, 0.47148438],\n",
       "       [0.60290904, 0.39709096],\n",
       "       [0.39389798, 0.60610202],\n",
       "       [0.45761731, 0.54238269],\n",
       "       [0.4403423 , 0.5596577 ],\n",
       "       [0.57579932, 0.42420068],\n",
       "       [0.48370721, 0.51629279],\n",
       "       [0.43782374, 0.56217626],\n",
       "       [0.57751747, 0.42248253],\n",
       "       [0.49012188, 0.50987812],\n",
       "       [0.47261935, 0.52738065],\n",
       "       [0.4275417 , 0.5724583 ],\n",
       "       [0.46191579, 0.53808421],\n",
       "       [0.3770836 , 0.6229164 ],\n",
       "       [0.43848628, 0.56151372],\n",
       "       [0.46323151, 0.53676849],\n",
       "       [0.44010891, 0.55989109],\n",
       "       [0.52894372, 0.47105628],\n",
       "       [0.53881241, 0.46118759],\n",
       "       [0.57207874, 0.42792126],\n",
       "       [0.43668799, 0.56331201],\n",
       "       [0.4934653 , 0.5065347 ],\n",
       "       [0.42069035, 0.57930965],\n",
       "       [0.54836334, 0.45163666],\n",
       "       [0.47703135, 0.52296865],\n",
       "       [0.51465865, 0.48534135],\n",
       "       [0.49992081, 0.50007919],\n",
       "       [0.48559114, 0.51440886],\n",
       "       [0.56081019, 0.43918981],\n",
       "       [0.55103823, 0.44896177],\n",
       "       [0.47552726, 0.52447274],\n",
       "       [0.57363695, 0.42636305],\n",
       "       [0.47375839, 0.52624161],\n",
       "       [0.51458777, 0.48541223],\n",
       "       [0.56514167, 0.43485833],\n",
       "       [0.51524037, 0.48475963],\n",
       "       [0.44050466, 0.55949534],\n",
       "       [0.62432943, 0.37567057],\n",
       "       [0.54668829, 0.45331171],\n",
       "       [0.40865399, 0.59134601],\n",
       "       [0.50528944, 0.49471056],\n",
       "       [0.48909678, 0.51090322],\n",
       "       [0.54309518, 0.45690482],\n",
       "       [0.49243348, 0.50756652],\n",
       "       [0.43451878, 0.56548122],\n",
       "       [0.5561885 , 0.4438115 ],\n",
       "       [0.58426354, 0.41573646],\n",
       "       [0.4789051 , 0.5210949 ],\n",
       "       [0.44759182, 0.55240818],\n",
       "       [0.51960138, 0.48039862],\n",
       "       [0.43278981, 0.56721019],\n",
       "       [0.45539548, 0.54460452],\n",
       "       [0.52108393, 0.47891607],\n",
       "       [0.45829912, 0.54170088],\n",
       "       [0.4814397 , 0.5185603 ],\n",
       "       [0.50022983, 0.49977017],\n",
       "       [0.45439567, 0.54560433],\n",
       "       [0.52567525, 0.47432475],\n",
       "       [0.6417544 , 0.3582456 ],\n",
       "       [0.51483691, 0.48516309],\n",
       "       [0.55121762, 0.44878238],\n",
       "       [0.43468574, 0.56531426],\n",
       "       [0.56234165, 0.43765835],\n",
       "       [0.58761306, 0.41238694],\n",
       "       [0.58388655, 0.41611345],\n",
       "       [0.41741357, 0.58258643],\n",
       "       [0.54411987, 0.45588013],\n",
       "       [0.56127095, 0.43872905],\n",
       "       [0.45328762, 0.54671238],\n",
       "       [0.47884809, 0.52115191],\n",
       "       [0.53247847, 0.46752153],\n",
       "       [0.58193958, 0.41806042],\n",
       "       [0.53385528, 0.46614472],\n",
       "       [0.40010244, 0.59989756],\n",
       "       [0.53978686, 0.46021314],\n",
       "       [0.40419656, 0.59580344],\n",
       "       [0.51043225, 0.48956775],\n",
       "       [0.56750454, 0.43249546],\n",
       "       [0.43482137, 0.56517863],\n",
       "       [0.53233444, 0.46766556],\n",
       "       [0.40172368, 0.59827632],\n",
       "       [0.57991674, 0.42008326],\n",
       "       [0.60099132, 0.39900868],\n",
       "       [0.5553546 , 0.4446454 ],\n",
       "       [0.51489144, 0.48510856],\n",
       "       [0.39368967, 0.60631033],\n",
       "       [0.53016222, 0.46983778],\n",
       "       [0.57603169, 0.42396831],\n",
       "       [0.62683912, 0.37316088],\n",
       "       [0.39794515, 0.60205485],\n",
       "       [0.48531635, 0.51468365],\n",
       "       [0.51026915, 0.48973085],\n",
       "       [0.56981608, 0.43018392],\n",
       "       [0.55033607, 0.44966393],\n",
       "       [0.50667956, 0.49332044],\n",
       "       [0.53521699, 0.46478301],\n",
       "       [0.53926883, 0.46073117],\n",
       "       [0.59480066, 0.40519934],\n",
       "       [0.60713218, 0.39286782],\n",
       "       [0.44650828, 0.55349172],\n",
       "       [0.59023552, 0.40976448],\n",
       "       [0.50869677, 0.49130323],\n",
       "       [0.50992792, 0.49007208],\n",
       "       [0.45829634, 0.54170366],\n",
       "       [0.60138742, 0.39861258],\n",
       "       [0.49279879, 0.50720121],\n",
       "       [0.49668798, 0.50331202],\n",
       "       [0.43699458, 0.56300542],\n",
       "       [0.50960571, 0.49039429],\n",
       "       [0.51305239, 0.48694761],\n",
       "       [0.52894069, 0.47105931],\n",
       "       [0.40353272, 0.59646728],\n",
       "       [0.49989707, 0.50010293],\n",
       "       [0.52375142, 0.47624858],\n",
       "       [0.48964759, 0.51035241],\n",
       "       [0.41099683, 0.58900317],\n",
       "       [0.53637398, 0.46362602],\n",
       "       [0.49245079, 0.50754921],\n",
       "       [0.55010334, 0.44989666],\n",
       "       [0.42908986, 0.57091014],\n",
       "       [0.5548018 , 0.4451982 ],\n",
       "       [0.55457294, 0.44542706],\n",
       "       [0.42639712, 0.57360288],\n",
       "       [0.63608413, 0.36391587],\n",
       "       [0.55738176, 0.44261824],\n",
       "       [0.4736664 , 0.5263336 ],\n",
       "       [0.60955839, 0.39044161],\n",
       "       [0.5137452 , 0.4862548 ],\n",
       "       [0.46208563, 0.53791437],\n",
       "       [0.53339152, 0.46660848],\n",
       "       [0.50252922, 0.49747078],\n",
       "       [0.54788209, 0.45211791],\n",
       "       [0.53054552, 0.46945448],\n",
       "       [0.45735081, 0.54264919],\n",
       "       [0.55145954, 0.44854046],\n",
       "       [0.43617862, 0.56382138],\n",
       "       [0.53834931, 0.46165069],\n",
       "       [0.61120427, 0.38879573],\n",
       "       [0.48355709, 0.51644291],\n",
       "       [0.56473638, 0.43526362],\n",
       "       [0.41153045, 0.58846955],\n",
       "       [0.52411357, 0.47588643],\n",
       "       [0.50120359, 0.49879641],\n",
       "       [0.37031616, 0.62968384],\n",
       "       [0.51880499, 0.48119501],\n",
       "       [0.44570516, 0.55429484],\n",
       "       [0.4536491 , 0.5463509 ],\n",
       "       [0.52565283, 0.47434717],\n",
       "       [0.5316394 , 0.4683606 ],\n",
       "       [0.57412773, 0.42587227],\n",
       "       [0.5660119 , 0.4339881 ],\n",
       "       [0.45751308, 0.54248692],\n",
       "       [0.44961523, 0.55038477],\n",
       "       [0.61454172, 0.38545828],\n",
       "       [0.55539926, 0.44460074],\n",
       "       [0.50171577, 0.49828423],\n",
       "       [0.45900196, 0.54099804],\n",
       "       [0.42220884, 0.57779116],\n",
       "       [0.48333055, 0.51666945],\n",
       "       [0.52272294, 0.47727706],\n",
       "       [0.48317677, 0.51682323],\n",
       "       [0.52710725, 0.47289275],\n",
       "       [0.5224847 , 0.4775153 ],\n",
       "       [0.5688802 , 0.4311198 ],\n",
       "       [0.44675107, 0.55324893],\n",
       "       [0.53336347, 0.46663653],\n",
       "       [0.52542161, 0.47457839],\n",
       "       [0.5280633 , 0.4719367 ],\n",
       "       [0.43961969, 0.56038031],\n",
       "       [0.55133372, 0.44866628],\n",
       "       [0.55379398, 0.44620602],\n",
       "       [0.48679048, 0.51320952],\n",
       "       [0.45821795, 0.54178205],\n",
       "       [0.50787666, 0.49212334],\n",
       "       [0.4597788 , 0.5402212 ],\n",
       "       [0.45911543, 0.54088457],\n",
       "       [0.49808796, 0.50191204],\n",
       "       [0.40671874, 0.59328126],\n",
       "       [0.49808062, 0.50191938],\n",
       "       [0.55895541, 0.44104459],\n",
       "       [0.54771486, 0.45228514],\n",
       "       [0.50130174, 0.49869826],\n",
       "       [0.57908363, 0.42091637],\n",
       "       [0.50401109, 0.49598891],\n",
       "       [0.46624225, 0.53375775],\n",
       "       [0.62174393, 0.37825607],\n",
       "       [0.57010714, 0.42989286],\n",
       "       [0.51250614, 0.48749386],\n",
       "       [0.58202089, 0.41797911],\n",
       "       [0.44530364, 0.55469636],\n",
       "       [0.47900213, 0.52099787],\n",
       "       [0.48554109, 0.51445891],\n",
       "       [0.56311776, 0.43688224],\n",
       "       [0.51522249, 0.48477751],\n",
       "       [0.49602914, 0.50397086],\n",
       "       [0.42082571, 0.57917429],\n",
       "       [0.55091375, 0.44908625],\n",
       "       [0.53244384, 0.46755616],\n",
       "       [0.63130813, 0.36869187],\n",
       "       [0.40612548, 0.59387452],\n",
       "       [0.54105425, 0.45894575],\n",
       "       [0.4953908 , 0.5046092 ],\n",
       "       [0.45508792, 0.54491208],\n",
       "       [0.48740553, 0.51259447],\n",
       "       [0.45739071, 0.54260929],\n",
       "       [0.51886718, 0.48113282],\n",
       "       [0.57134404, 0.42865596],\n",
       "       [0.54957018, 0.45042982],\n",
       "       [0.58752122, 0.41247878],\n",
       "       [0.59732903, 0.40267097],\n",
       "       [0.39352263, 0.60647737],\n",
       "       [0.50754619, 0.49245381],\n",
       "       [0.51440746, 0.48559254],\n",
       "       [0.55164582, 0.44835418],\n",
       "       [0.49775143, 0.50224857],\n",
       "       [0.48865504, 0.51134496],\n",
       "       [0.57180788, 0.42819212],\n",
       "       [0.45888767, 0.54111233],\n",
       "       [0.53540229, 0.46459771],\n",
       "       [0.63749376, 0.36250624],\n",
       "       [0.44110487, 0.55889513],\n",
       "       [0.54110122, 0.45889878],\n",
       "       [0.52512226, 0.47487774],\n",
       "       [0.46282828, 0.53717172],\n",
       "       [0.52885085, 0.47114915],\n",
       "       [0.53586188, 0.46413812],\n",
       "       [0.43022204, 0.56977796],\n",
       "       [0.52141439, 0.47858561],\n",
       "       [0.52618568, 0.47381432],\n",
       "       [0.56981299, 0.43018701],\n",
       "       [0.45569864, 0.54430136],\n",
       "       [0.54710497, 0.45289503],\n",
       "       [0.39596624, 0.60403376],\n",
       "       [0.60165141, 0.39834859],\n",
       "       [0.47023311, 0.52976689],\n",
       "       [0.4587679 , 0.5412321 ],\n",
       "       [0.45632128, 0.54367872],\n",
       "       [0.46180556, 0.53819444],\n",
       "       [0.47681788, 0.52318212],\n",
       "       [0.57942712, 0.42057288],\n",
       "       [0.60557239, 0.39442761],\n",
       "       [0.53232099, 0.46767901],\n",
       "       [0.44859137, 0.55140863],\n",
       "       [0.58835089, 0.41164911],\n",
       "       [0.52961845, 0.47038155],\n",
       "       [0.44844046, 0.55155954],\n",
       "       [0.50043732, 0.49956268],\n",
       "       [0.41790826, 0.58209174],\n",
       "       [0.49281468, 0.50718532],\n",
       "       [0.55327607, 0.44672393],\n",
       "       [0.44163604, 0.55836396],\n",
       "       [0.51619193, 0.48380807],\n",
       "       [0.56662324, 0.43337676],\n",
       "       [0.52865845, 0.47134155],\n",
       "       [0.43138657, 0.56861343],\n",
       "       [0.44494269, 0.55505731],\n",
       "       [0.40450592, 0.59549408],\n",
       "       [0.36941012, 0.63058988],\n",
       "       [0.54239125, 0.45760875],\n",
       "       [0.47992569, 0.52007431],\n",
       "       [0.56876978, 0.43123022],\n",
       "       [0.47871392, 0.52128608],\n",
       "       [0.41172557, 0.58827443],\n",
       "       [0.53394233, 0.46605767],\n",
       "       [0.51103772, 0.48896228],\n",
       "       [0.51760747, 0.48239253],\n",
       "       [0.4294861 , 0.5705139 ],\n",
       "       [0.53747299, 0.46252701],\n",
       "       [0.40843691, 0.59156309],\n",
       "       [0.50226898, 0.49773102],\n",
       "       [0.49538606, 0.50461394],\n",
       "       [0.41800286, 0.58199714]])"
      ]
     },
     "execution_count": 76,
     "metadata": {},
     "output_type": "execute_result"
    }
   ],
   "source": [
    "pred_prob"
   ]
  },
  {
   "cell_type": "code",
   "execution_count": 77,
   "id": "6cd193b6-1165-4f26-8dbc-932fe1258036",
   "metadata": {},
   "outputs": [
    {
     "data": {
      "text/plain": [
       "0.6070357035703571"
      ]
     },
     "execution_count": 77,
     "metadata": {},
     "output_type": "execute_result"
    }
   ],
   "source": [
    "roc_auc_score(bp_test_y,pred)\n",
    "#this is the area under the curve AUROC"
   ]
  },
  {
   "cell_type": "code",
   "execution_count": 78,
   "id": "aadc7c0a-b892-4121-9d0a-392c2c25d2e7",
   "metadata": {},
   "outputs": [
    {
     "data": {
      "text/plain": [
       "(400, 2)"
      ]
     },
     "execution_count": 78,
     "metadata": {},
     "output_type": "execute_result"
    }
   ],
   "source": [
    "pred_prob=log_bp.predict_proba(bp_test_x)\n",
    "pred_prob.shape"
   ]
  },
  {
   "cell_type": "code",
   "execution_count": 79,
   "id": "7ff21454-692c-4540-9e8f-0ba5872873d5",
   "metadata": {},
   "outputs": [],
   "source": [
    "#Roc Curve\n",
    "fpr,tpr,thresh=roc_curve(bp_test_y,pred_prob[:,1])"
   ]
  },
  {
   "cell_type": "code",
   "execution_count": 80,
   "id": "7834dd14-dd09-4e13-9d31-9970678f3da2",
   "metadata": {},
   "outputs": [
    {
     "data": {
      "text/plain": [
       "Text(0.5, 0.5, 'AUROC is 0.6527108433734939')"
      ]
     },
     "execution_count": 80,
     "metadata": {},
     "output_type": "execute_result"
    },
    {
     "data": {
      "image/png": "[encoded data removed]",
      "text/plain": [
       "<Figure size 432x288 with 1 Axes>"
      ]
     },
     "metadata": {
      "needs_background": "light"
     },
     "output_type": "display_data"
    }
   ],
   "source": [
    "import matplotlib.pyplot as plt\n",
    "plt.plot(fpr,tpr)\n",
    "plt.xlabel(\"Fpr\")\n",
    "plt.ylabel(\"Tpr\")\n",
    "plt.title(\"AUROC curve on Blood pressure\")\n",
    "plt.grid()\n",
    "plt.text(x=0.5,y=.5,s=\"AUROC is 0.6527108433734939\")"
   ]
  },
  {
   "cell_type": "code",
   "execution_count": 81,
   "id": "ec55e0a6-ea0c-49d3-8745-67182a04cb40",
   "metadata": {},
   "outputs": [],
   "source": [
    "#from all above outputs we can see this algorithm is not performing well\n",
    "#so we can try some other model"
   ]
  },
  {
   "cell_type": "code",
   "execution_count": null,
   "id": "2bc606b9-a2f9-429e-ad97-ecb66723ce19",
   "metadata": {},
   "outputs": [],
   "source": []
  },
  {
   "cell_type": "code",
   "execution_count": null,
   "id": "f019c2e1-daf9-49ce-bb6a-929b87fa6d00",
   "metadata": {},
   "outputs": [],
   "source": []
  },
  {
   "cell_type": "code",
   "execution_count": null,
   "id": "bac26066-6d1d-45fb-9fa2-462a2d4dc369",
   "metadata": {},
   "outputs": [],
   "source": []
  }
 ],
 "metadata": {
  "kernelspec": {
   "display_name": "Python 3",
   "language": "python",
   "name": "python3"
  },
  "language_info": {
   "codemirror_mode": {
    "name": "ipython",
    "version": 3
   },
   "file_extension": ".py",
   "mimetype": "text/x-python",
   "name": "python",
   "nbconvert_exporter": "python",
   "pygments_lexer": "ipython3",
   "version": "3.9.12"
  }
 },
 "nbformat": 4,
 "nbformat_minor": 5
}
